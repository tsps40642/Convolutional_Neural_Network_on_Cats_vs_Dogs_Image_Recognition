{
 "cells": [
  {
   "cell_type": "markdown",
   "metadata": {},
   "source": [
    "# 4-2.1"
   ]
  },
  {
   "cell_type": "markdown",
   "metadata": {
    "id": "iQdtcoQnaFlh"
   },
   "source": [
    "# Generate training and testing sets in Google Colab\n",
    "(I prepare the training and testing sets through Google Colab since I want to save the GPU in kaggle for model training.)"
   ]
  },
  {
   "cell_type": "code",
   "execution_count": null,
   "metadata": {
    "id": "n7fBcnZTVTrh"
   },
   "outputs": [],
   "source": [
    "# Easiest way to download kaggle data in Google Colab: https://www.kaggle.com/discussions/general/74235\n",
    "\n",
    "# 1. Go to your account, Scroll to API section and Click Expire API Token to remove previous tokens\n",
    "# 2. Click on Create New API Token - It will download kaggle.json file on your machine\n",
    "# 3. Go to your Google Colab project file and run the following commands"
   ]
  },
  {
   "cell_type": "code",
   "execution_count": null,
   "metadata": {
    "colab": {
     "base_uri": "https://localhost:8080/",
     "height": 92
    },
    "id": "OhzHN9CJyaQC",
    "outputId": "9bc6788c-e04f-4520-b9cd-6e7887a8987a"
   },
   "outputs": [
    {
     "data": {
      "text/html": [
       "\n",
       "     <input type=\"file\" id=\"files-f2a2ee48-d1c3-493d-bc2b-00ebc4ab1e69\" name=\"files[]\" multiple disabled\n",
       "        style=\"border:none\" />\n",
       "     <output id=\"result-f2a2ee48-d1c3-493d-bc2b-00ebc4ab1e69\">\n",
       "      Upload widget is only available when the cell has been executed in the\n",
       "      current browser session. Please rerun this cell to enable.\n",
       "      </output>\n",
       "      <script>// Copyright 2017 Google LLC\n",
       "//\n",
       "// Licensed under the Apache License, Version 2.0 (the \"License\");\n",
       "// you may not use this file except in compliance with the License.\n",
       "// You may obtain a copy of the License at\n",
       "//\n",
       "//      http://www.apache.org/licenses/LICENSE-2.0\n",
       "//\n",
       "// Unless required by applicable law or agreed to in writing, software\n",
       "// distributed under the License is distributed on an \"AS IS\" BASIS,\n",
       "// WITHOUT WARRANTIES OR CONDITIONS OF ANY KIND, either express or implied.\n",
       "// See the License for the specific language governing permissions and\n",
       "// limitations under the License.\n",
       "\n",
       "/**\n",
       " * @fileoverview Helpers for google.colab Python module.\n",
       " */\n",
       "(function(scope) {\n",
       "function span(text, styleAttributes = {}) {\n",
       "  const element = document.createElement('span');\n",
       "  element.textContent = text;\n",
       "  for (const key of Object.keys(styleAttributes)) {\n",
       "    element.style[key] = styleAttributes[key];\n",
       "  }\n",
       "  return element;\n",
       "}\n",
       "\n",
       "// Max number of bytes which will be uploaded at a time.\n",
       "const MAX_PAYLOAD_SIZE = 100 * 1024;\n",
       "\n",
       "function _uploadFiles(inputId, outputId) {\n",
       "  const steps = uploadFilesStep(inputId, outputId);\n",
       "  const outputElement = document.getElementById(outputId);\n",
       "  // Cache steps on the outputElement to make it available for the next call\n",
       "  // to uploadFilesContinue from Python.\n",
       "  outputElement.steps = steps;\n",
       "\n",
       "  return _uploadFilesContinue(outputId);\n",
       "}\n",
       "\n",
       "// This is roughly an async generator (not supported in the browser yet),\n",
       "// where there are multiple asynchronous steps and the Python side is going\n",
       "// to poll for completion of each step.\n",
       "// This uses a Promise to block the python side on completion of each step,\n",
       "// then passes the result of the previous step as the input to the next step.\n",
       "function _uploadFilesContinue(outputId) {\n",
       "  const outputElement = document.getElementById(outputId);\n",
       "  const steps = outputElement.steps;\n",
       "\n",
       "  const next = steps.next(outputElement.lastPromiseValue);\n",
       "  return Promise.resolve(next.value.promise).then((value) => {\n",
       "    // Cache the last promise value to make it available to the next\n",
       "    // step of the generator.\n",
       "    outputElement.lastPromiseValue = value;\n",
       "    return next.value.response;\n",
       "  });\n",
       "}\n",
       "\n",
       "/**\n",
       " * Generator function which is called between each async step of the upload\n",
       " * process.\n",
       " * @param {string} inputId Element ID of the input file picker element.\n",
       " * @param {string} outputId Element ID of the output display.\n",
       " * @return {!Iterable<!Object>} Iterable of next steps.\n",
       " */\n",
       "function* uploadFilesStep(inputId, outputId) {\n",
       "  const inputElement = document.getElementById(inputId);\n",
       "  inputElement.disabled = false;\n",
       "\n",
       "  const outputElement = document.getElementById(outputId);\n",
       "  outputElement.innerHTML = '';\n",
       "\n",
       "  const pickedPromise = new Promise((resolve) => {\n",
       "    inputElement.addEventListener('change', (e) => {\n",
       "      resolve(e.target.files);\n",
       "    });\n",
       "  });\n",
       "\n",
       "  const cancel = document.createElement('button');\n",
       "  inputElement.parentElement.appendChild(cancel);\n",
       "  cancel.textContent = 'Cancel upload';\n",
       "  const cancelPromise = new Promise((resolve) => {\n",
       "    cancel.onclick = () => {\n",
       "      resolve(null);\n",
       "    };\n",
       "  });\n",
       "\n",
       "  // Wait for the user to pick the files.\n",
       "  const files = yield {\n",
       "    promise: Promise.race([pickedPromise, cancelPromise]),\n",
       "    response: {\n",
       "      action: 'starting',\n",
       "    }\n",
       "  };\n",
       "\n",
       "  cancel.remove();\n",
       "\n",
       "  // Disable the input element since further picks are not allowed.\n",
       "  inputElement.disabled = true;\n",
       "\n",
       "  if (!files) {\n",
       "    return {\n",
       "      response: {\n",
       "        action: 'complete',\n",
       "      }\n",
       "    };\n",
       "  }\n",
       "\n",
       "  for (const file of files) {\n",
       "    const li = document.createElement('li');\n",
       "    li.append(span(file.name, {fontWeight: 'bold'}));\n",
       "    li.append(span(\n",
       "        `(${file.type || 'n/a'}) - ${file.size} bytes, ` +\n",
       "        `last modified: ${\n",
       "            file.lastModifiedDate ? file.lastModifiedDate.toLocaleDateString() :\n",
       "                                    'n/a'} - `));\n",
       "    const percent = span('0% done');\n",
       "    li.appendChild(percent);\n",
       "\n",
       "    outputElement.appendChild(li);\n",
       "\n",
       "    const fileDataPromise = new Promise((resolve) => {\n",
       "      const reader = new FileReader();\n",
       "      reader.onload = (e) => {\n",
       "        resolve(e.target.result);\n",
       "      };\n",
       "      reader.readAsArrayBuffer(file);\n",
       "    });\n",
       "    // Wait for the data to be ready.\n",
       "    let fileData = yield {\n",
       "      promise: fileDataPromise,\n",
       "      response: {\n",
       "        action: 'continue',\n",
       "      }\n",
       "    };\n",
       "\n",
       "    // Use a chunked sending to avoid message size limits. See b/62115660.\n",
       "    let position = 0;\n",
       "    do {\n",
       "      const length = Math.min(fileData.byteLength - position, MAX_PAYLOAD_SIZE);\n",
       "      const chunk = new Uint8Array(fileData, position, length);\n",
       "      position += length;\n",
       "\n",
       "      const base64 = btoa(String.fromCharCode.apply(null, chunk));\n",
       "      yield {\n",
       "        response: {\n",
       "          action: 'append',\n",
       "          file: file.name,\n",
       "          data: base64,\n",
       "        },\n",
       "      };\n",
       "\n",
       "      let percentDone = fileData.byteLength === 0 ?\n",
       "          100 :\n",
       "          Math.round((position / fileData.byteLength) * 100);\n",
       "      percent.textContent = `${percentDone}% done`;\n",
       "\n",
       "    } while (position < fileData.byteLength);\n",
       "  }\n",
       "\n",
       "  // All done.\n",
       "  yield {\n",
       "    response: {\n",
       "      action: 'complete',\n",
       "    }\n",
       "  };\n",
       "}\n",
       "\n",
       "scope.google = scope.google || {};\n",
       "scope.google.colab = scope.google.colab || {};\n",
       "scope.google.colab._files = {\n",
       "  _uploadFiles,\n",
       "  _uploadFilesContinue,\n",
       "};\n",
       "})(self);\n",
       "</script> "
      ],
      "text/plain": [
       "<IPython.core.display.HTML object>"
      ]
     },
     "metadata": {},
     "output_type": "display_data"
    },
    {
     "name": "stdout",
     "output_type": "stream",
     "text": [
      "Saving kaggle.json to kaggle.json\n"
     ]
    },
    {
     "data": {
      "text/plain": [
       "{'kaggle.json': b'{\"username\":\"weichunchang2000\",\"key\":\"773179abc6899133f0e9962470ce127f\"}'}"
      ]
     },
     "execution_count": 1,
     "metadata": {},
     "output_type": "execute_result"
    }
   ],
   "source": [
    "# ! pip install -q kaggle\n",
    "from google.colab import files\n",
    "files.upload() # need to choose the file you've downloaded from"
   ]
  },
  {
   "cell_type": "code",
   "execution_count": null,
   "metadata": {
    "id": "Vnl1t1wFUcmz"
   },
   "outputs": [],
   "source": [
    "# make directory named kaggle and copy kaggle.json file there\n",
    "! mkdir ~/.kaggle\n",
    "! cp kaggle.json ~/.kaggle/\n",
    "\n",
    "# change the permissions of the file\n",
    "! chmod 600 ~/.kaggle/kaggle.json\n",
    "\n",
    "# list the dataset in kaggle\n",
    "! kaggle datasets list"
   ]
  },
  {
   "cell_type": "code",
   "execution_count": null,
   "metadata": {
    "colab": {
     "base_uri": "https://localhost:8080/"
    },
    "id": "loL6UrSvUwE1",
    "outputId": "c6e3c837-092f-4473-e19f-9d68ebcbe1d3"
   },
   "outputs": [
    {
     "name": "stdout",
     "output_type": "stream",
     "text": [
      "Downloading dogs-vs-cats-redux-kernels-edition.zip to /content\n",
      "100% 811M/814M [00:07<00:00, 155MB/s]\n",
      "100% 814M/814M [00:07<00:00, 116MB/s]\n"
     ]
    }
   ],
   "source": [
    "# ! kaggle competitions download -c 'name-of-competition', you will find this in each competition\n",
    "! kaggle competitions download -c dogs-vs-cats-redux-kernels-edition"
   ]
  },
  {
   "cell_type": "code",
   "execution_count": null,
   "metadata": {
    "colab": {
     "base_uri": "https://localhost:8080/"
    },
    "id": "E5OKCW-yY1ac",
    "outputId": "9ba28659-0004-4dc7-b06c-5c6212e61d79"
   },
   "outputs": [
    {
     "name": "stdout",
     "output_type": "stream",
     "text": [
      "rm: cannot remove 'hw4': No such file or directory\n",
      "Archive:  dogs-vs-cats-redux-kernels-edition.zip\n",
      "  inflating: hw4/sample_submission.csv  \n",
      "  inflating: hw4/test.zip            \n",
      "  inflating: hw4/train.zip           \n"
     ]
    }
   ],
   "source": [
    "! rm -r hw4 # remove the directory if needed to rerun\n",
    "\n",
    "! mkdir hw4 # then make again\n",
    "! unzip dogs-vs-cats-redux-kernels-edition.zip -d hw4"
   ]
  },
  {
   "cell_type": "code",
   "execution_count": null,
   "metadata": {
    "colab": {
     "base_uri": "https://localhost:8080/"
    },
    "id": "oaAso1XrZwDo",
    "outputId": "0ea1927a-7fbf-4298-be18-5acf93f49532"
   },
   "outputs": [
    {
     "name": "stdout",
     "output_type": "stream",
     "text": [
      "sample_submission.csv  test.zip  train.zip\n"
     ]
    }
   ],
   "source": [
    "! ls hw4"
   ]
  },
  {
   "cell_type": "code",
   "execution_count": null,
   "metadata": {
    "id": "W0Rp_l5RZWZH"
   },
   "outputs": [],
   "source": [
    "# ! rm -r train # remove the directory\n",
    "# ! rm -r test # remove the directory\n",
    "\n",
    "! unzip hw4/train.zip -d hw4\n",
    "! unzip hw4/test.zip -d hw4"
   ]
  },
  {
   "cell_type": "code",
   "execution_count": null,
   "metadata": {
    "colab": {
     "base_uri": "https://localhost:8080/"
    },
    "id": "9FtndjH0nuwE",
    "outputId": "84698dae-91df-4ab4-b718-84d2b8f6f011"
   },
   "outputs": [
    {
     "name": "stdout",
     "output_type": "stream",
     "text": [
      "cat.0.jpg\n",
      "cat.10000.jpg\n",
      "cat.10001.jpg\n",
      "cat.10002.jpg\n",
      "cat.10003.jpg\n",
      "cat.10004.jpg\n",
      "cat.10005.jpg\n",
      "cat.10006.jpg\n",
      "cat.10007.jpg\n",
      "cat.10008.jpg\n"
     ]
    }
   ],
   "source": [
    "# the first half part of the training set are all cat images\n",
    "! ls hw4/train |head -n 10"
   ]
  },
  {
   "cell_type": "code",
   "execution_count": null,
   "metadata": {
    "colab": {
     "base_uri": "https://localhost:8080/"
    },
    "id": "ZrE-vPp3ajIo",
    "outputId": "2e60a1f3-296e-4183-96d5-36c0b8f5ecce"
   },
   "outputs": [
    {
     "name": "stdout",
     "output_type": "stream",
     "text": [
      "dog.9993.jpg\n",
      "dog.9994.jpg\n",
      "dog.9995.jpg\n",
      "dog.9996.jpg\n",
      "dog.9997.jpg\n",
      "dog.9998.jpg\n",
      "dog.9999.jpg\n",
      "dog.999.jpg\n",
      "dog.99.jpg\n",
      "dog.9.jpg\n"
     ]
    }
   ],
   "source": [
    "# the first half part of the training set are all dog images\n",
    "! ls hw4/train |tail -n 10 # all dogs"
   ]
  },
  {
   "cell_type": "markdown",
   "metadata": {
    "id": "2YUZeOgi9hTU"
   },
   "source": [
    "Note that I will have to reshuffle the training set later."
   ]
  },
  {
   "cell_type": "code",
   "execution_count": null,
   "metadata": {
    "colab": {
     "base_uri": "https://localhost:8080/"
    },
    "id": "b2DidJhCyGx2",
    "outputId": "91100270-e61d-4f6f-e309-334bd64b991c"
   },
   "outputs": [
    {
     "name": "stdout",
     "output_type": "stream",
     "text": [
      "10000.jpg\n",
      "10001.jpg\n",
      "10002.jpg\n",
      "10003.jpg\n",
      "10004.jpg\n",
      "10005.jpg\n",
      "10006.jpg\n",
      "10007.jpg\n",
      "10008.jpg\n",
      "10009.jpg\n"
     ]
    }
   ],
   "source": [
    "# testing set won't have 'cat' or 'dog' in file names\n",
    "! ls hw4/test | head -n 10"
   ]
  },
  {
   "cell_type": "code",
   "execution_count": null,
   "metadata": {
    "execution": {
     "iopub.execute_input": "2023-11-29T23:20:37.678902Z",
     "iopub.status.busy": "2023-11-29T23:20:37.678545Z",
     "iopub.status.idle": "2023-11-29T23:20:38.051674Z",
     "shell.execute_reply": "2023-11-29T23:20:38.050690Z",
     "shell.execute_reply.started": "2023-11-29T23:20:37.678865Z"
    },
    "id": "kKykGiQGtkZj"
   },
   "outputs": [],
   "source": [
    "import numpy as np\n",
    "import pandas as pd\n",
    "import cv2\n",
    "import time\n",
    "import os\n",
    "import random\n",
    "import matplotlib.pyplot as plt\n",
    "%matplotlib inline\n",
    "import gc   # Garbage collector for cleaning deleted data from memory\n",
    "\n",
    "pd.options.display.max_columns = None\n",
    "pd.options.display.max_rows = None"
   ]
  },
  {
   "cell_type": "code",
   "execution_count": null,
   "metadata": {
    "colab": {
     "base_uri": "https://localhost:8080/"
    },
    "id": "4qTLPcnhlu_7",
    "outputId": "52f5b90a-9f73-4bab-ec50-6acd1b81e347"
   },
   "outputs": [
    {
     "data": {
      "text/plain": [
       "4"
      ]
     },
     "execution_count": 11,
     "metadata": {},
     "output_type": "execute_result"
    }
   ],
   "source": [
    "train_dogs = [] # initialize in case I need to rerun\n",
    "train_cats = []\n",
    "\n",
    "train_dir = 'hw4/train'\n",
    "test_dir = 'hw4/test'\n",
    "\n",
    "train_dogs = ['hw4/train/{}'.format(i) for i in os.listdir(train_dir) if 'dog' in i] # get dog images\n",
    "train_cats = ['hw4/train/{}'.format(i) for i in os.listdir(train_dir) if 'cat' in i] # get cat images\n",
    "\n",
    "test_imgs = ['hw4/test/{}'.format(i) for i in os.listdir(test_dir)] # get test images\n",
    "\n",
    "train_imgs = train_dogs + train_cats # get the complete training set\n",
    "random.shuffle(train_imgs) # randomly shuffle s.t. won't encounter continuous cats or dogs to impact model training\n",
    "\n",
    "# clear list that are useless\n",
    "del train_dogs\n",
    "del train_cats\n",
    "gc.collect() # collect garbage to save memory"
   ]
  },
  {
   "cell_type": "code",
   "execution_count": null,
   "metadata": {
    "execution": {
     "iopub.execute_input": "2023-11-29T23:20:44.315594Z",
     "iopub.status.busy": "2023-11-29T23:20:44.314596Z",
     "iopub.status.idle": "2023-11-29T23:20:44.321687Z",
     "shell.execute_reply": "2023-11-29T23:20:44.320828Z",
     "shell.execute_reply.started": "2023-11-29T23:20:44.315556Z"
    },
    "id": "sxXD-7aOlxqv"
   },
   "outputs": [],
   "source": [
    "# declare image dimensions\n",
    "# I use color images\n",
    "\n",
    "img_size = 250\n",
    "channels = 3  #change to 1 if need to use grayscale image\n",
    "\n",
    "# define function to read and process the images to an acceptable format for our model\n",
    "def read_and_process_image(list_of_images):\n",
    "    X = [] # an array of resized images\n",
    "    y = [] # an array of labels\n",
    "\n",
    "    for image in list_of_images:\n",
    "        X.append(cv2.resize(cv2.imread(image, cv2.IMREAD_COLOR), (img_size, img_size), interpolation=cv2.INTER_CUBIC))\n",
    "\n",
    "        # get the labels manually through the file name\n",
    "        if 'dog' in image:\n",
    "          y.append(1)\n",
    "        elif 'cat' in image:\n",
    "          y.append(0)\n",
    "\n",
    "    return X, y"
   ]
  },
  {
   "cell_type": "code",
   "execution_count": null,
   "metadata": {
    "id": "NVbDdmtRlyNT"
   },
   "outputs": [],
   "source": [
    "# get the whole training data with labels\n",
    "X, y = read_and_process_image(train_imgs)"
   ]
  },
  {
   "cell_type": "code",
   "execution_count": null,
   "metadata": {
    "colab": {
     "base_uri": "https://localhost:8080/",
     "height": 236
    },
    "id": "1VpHikSCrjbf",
    "outputId": "8a69198b-e1ba-44ac-ee19-7f13cdb0e002"
   },
   "outputs": [
    {
     "data": {
      "text/plain": [
       "<matplotlib.image.AxesImage at 0x7ce60c57d930>"
      ]
     },
     "execution_count": 14,
     "metadata": {},
     "output_type": "execute_result"
    },
    {
     "data": {
      "image/png": "[encoded data removed]",
      "text/plain": [
       "<Figure size 500x200 with 1 Axes>"
      ]
     },
     "metadata": {},
     "output_type": "display_data"
    }
   ],
   "source": [
    "# randomly check one image to see if successfully reading in images\n",
    "plt.figure(figsize=(5, 2))\n",
    "plt.imshow(X[2])"
   ]
  },
  {
   "cell_type": "code",
   "execution_count": null,
   "metadata": {
    "id": "qYTx_ziel2HO"
   },
   "outputs": [],
   "source": [
    "# convert list to numpy array\n",
    "X = np.array(X)\n",
    "y = np.array(y)"
   ]
  },
  {
   "cell_type": "markdown",
   "metadata": {
    "id": "eRSATCo--n0q"
   },
   "source": [
    "# Mount my Google drive to save the processed training arrays and labels\n",
    "So that I only need to upload the array.npy and label.npy to kaggle to train the model instead of redo data preprocessing everytime."
   ]
  },
  {
   "cell_type": "code",
   "execution_count": null,
   "metadata": {
    "colab": {
     "base_uri": "https://localhost:8080/"
    },
    "id": "IIcBHb_q2DlF",
    "outputId": "5193cad6-b63e-497a-dbc6-01e14ce9d26f"
   },
   "outputs": [
    {
     "name": "stdout",
     "output_type": "stream",
     "text": [
      "Mounted at /content/drive\n"
     ]
    }
   ],
   "source": [
    "from google.colab import drive\n",
    "drive.mount('/content/drive')"
   ]
  },
  {
   "cell_type": "code",
   "execution_count": null,
   "metadata": {
    "id": "Aw7Qw1jNl385"
   },
   "outputs": [],
   "source": [
    "# save to google drive so that don't need to load the image each time\n",
    "np.save(\"/content/drive/MyDrive/Colab Notebooks/training_X.npy\", X)\n",
    "np.save(\"/content/drive/MyDrive/Colab Notebooks/training_y.npy\", y)"
   ]
  },
  {
   "cell_type": "markdown",
   "metadata": {
    "id": "kR9zfFXk_DAR"
   },
   "source": [
    "# Also preprocess the testing set\n",
    "Note that don't need to deal with labels here since we don't have that in testing set"
   ]
  },
  {
   "cell_type": "code",
   "execution_count": null,
   "metadata": {
    "id": "qYy121UEb5lQ"
   },
   "outputs": [],
   "source": [
    "# testing set process\n",
    "\n",
    "img_size = 250\n",
    "channels = 3  # change to 1 if need to use grayscale image\n",
    "\n",
    "# define function to read and process the images to an acceptable format for our model\n",
    "def read_and_process_image_test(list_of_images):\n",
    "    X = [] # ONLY an array of resized images\n",
    "    for image in list_of_images:\n",
    "        X.append(cv2.resize(cv2.imread(image, cv2.IMREAD_COLOR), (img_size, img_size), interpolation=cv2.INTER_CUBIC)) # read the image\n",
    "\n",
    "    return X # no y to return"
   ]
  },
  {
   "cell_type": "code",
   "execution_count": null,
   "metadata": {
    "id": "AfmdIKNzb28j"
   },
   "outputs": [],
   "source": [
    "X_TEST = read_and_process_image_test(test_imgs)"
   ]
  },
  {
   "cell_type": "code",
   "execution_count": null,
   "metadata": {
    "id": "saC3_VDPcL0m"
   },
   "outputs": [],
   "source": [
    "# convert list to numpy array\n",
    "X_TEST = np.array(X_TEST)"
   ]
  },
  {
   "cell_type": "code",
   "execution_count": null,
   "metadata": {
    "id": "T35_0mBqcQsc"
   },
   "outputs": [],
   "source": [
    "np.save(\"/content/drive/MyDrive/Colab Notebooks/testing_X.npy\", X_TEST)"
   ]
  },
  {
   "cell_type": "markdown",
   "metadata": {
    "id": "Te0AMkE9_mzu"
   },
   "source": [
    "# I've finished preprocessing images into arrays and save in my Google drive\n",
    "Let's switch to the kaggle notebook for model training"
   ]
  }
 ],
 "metadata": {
  "accelerator": "GPU",
  "colab": {
   "gpuType": "T4",
   "provenance": []
  },
  "kaggle": {
   "accelerator": "nvidiaTeslaT4",
   "dataSources": [
    {
     "databundleVersionId": 38425,
     "sourceId": 5441,
     "sourceType": "competition"
    },
    {
     "datasetId": 4075326,
     "sourceId": 7075524,
     "sourceType": "datasetVersion"
    },
    {
     "isSourceIdPinned": true,
     "modelInstanceId": 847,
     "sourceId": 993,
     "sourceType": "modelInstanceVersion"
    }
   ],
   "dockerImageVersionId": 30588,
   "isGpuEnabled": true,
   "isInternetEnabled": true,
   "language": "python",
   "sourceType": "notebook"
  },
  "kernelspec": {
   "display_name": "Python 3",
   "language": "python",
   "name": "python3"
  },
  "language_info": {
   "codemirror_mode": {
    "name": "ipython",
    "version": 3
   },
   "file_extension": ".py",
   "mimetype": "text/x-python",
   "name": "python",
   "nbconvert_exporter": "python",
   "pygments_lexer": "ipython3",
   "version": "3.8.8"
  }
 },
 "nbformat": 4,
 "nbformat_minor": 1
}
